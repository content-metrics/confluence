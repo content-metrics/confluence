{
 "cells": [
  {
   "cell_type": "code",
   "execution_count": 1,
   "metadata": {},
   "outputs": [
    {
     "ename": "ModuleNotFoundError",
     "evalue": "No module named 'apiclient'",
     "output_type": "error",
     "traceback": [
      "\u001b[0;31m---------------------------------------------------------------------------\u001b[0m",
      "\u001b[0;31mModuleNotFoundError\u001b[0m                       Traceback (most recent call last)",
      "\u001b[1;32m/Users/muhammed/Desktop/confluence/notebooks/test.ipynb Cellule 1\u001b[0m in \u001b[0;36m<cell line: 2>\u001b[0;34m()\u001b[0m\n\u001b[1;32m      <a href='vscode-notebook-cell:/Users/muhammed/Desktop/confluence/notebooks/test.ipynb#ch0000000?line=0'>1</a>\u001b[0m channelId \u001b[39m=\u001b[39m \u001b[39m'\u001b[39m\u001b[39mUC3xn1DpwVRM_z4JFKtGQegQ\u001b[39m\u001b[39m'\u001b[39m \n\u001b[0;32m----> <a href='vscode-notebook-cell:/Users/muhammed/Desktop/confluence/notebooks/test.ipynb#ch0000000?line=1'>2</a>\u001b[0m \u001b[39mfrom\u001b[39;00m \u001b[39mapiclient\u001b[39;00m\u001b[39m.\u001b[39;00m\u001b[39mdiscovery\u001b[39;00m \u001b[39mimport\u001b[39;00m build \n\u001b[1;32m      <a href='vscode-notebook-cell:/Users/muhammed/Desktop/confluence/notebooks/test.ipynb#ch0000000?line=2'>3</a>\u001b[0m youtube \u001b[39m=\u001b[39m build(\u001b[39m'\u001b[39m\u001b[39myoutube\u001b[39m\u001b[39m'\u001b[39m,\u001b[39m'\u001b[39m\u001b[39mv3\u001b[39m\u001b[39m'\u001b[39m, developerKey\u001b[39m=\u001b[39m\u001b[39m'\u001b[39m\u001b[39mYOUR_DEVELOPER_KEY\u001b[39m\u001b[39m'\u001b[39m) \n\u001b[1;32m      <a href='vscode-notebook-cell:/Users/muhammed/Desktop/confluence/notebooks/test.ipynb#ch0000000?line=3'>4</a>\u001b[0m channel_response \u001b[39m=\u001b[39myoutube\u001b[39m.\u001b[39mchannels()\u001b[39m.\u001b[39mlist(\u001b[39mid\u001b[39m\u001b[39m=\u001b[39mchannelId,part\u001b[39m=\u001b[39m\u001b[39m'\u001b[39m\u001b[39msnippet\u001b[39m\u001b[39m'\u001b[39m)\u001b[39m.\u001b[39mexecute() \n",
      "\u001b[0;31mModuleNotFoundError\u001b[0m: No module named 'apiclient'"
     ]
    }
   ],
   "source": [
    "from googleapiclient.discovery import build \n",
    "channelId = 'UC3xn1DpwVRM_z4JFKtGQegQ' \n",
    "youtube = build('youtube','v3', developerKey='api_key') \n",
    "channel_response =youtube.channels().list(id=channelId,part='snippet').execute() \n",
    "print(channel_response['items'][0]['snippet']['thumbnails']['high']['url'])\n"
   ]
  }
 ],
 "metadata": {
  "kernelspec": {
   "display_name": "Python 3.8.9 ('confluence-ysG-jKm4')",
   "language": "python",
   "name": "python3"
  },
  "language_info": {
   "codemirror_mode": {
    "name": "ipython",
    "version": 3
   },
   "file_extension": ".py",
   "mimetype": "text/x-python",
   "name": "python",
   "nbconvert_exporter": "python",
   "pygments_lexer": "ipython3",
   "version": "3.8.9"
  },
  "orig_nbformat": 4,
  "vscode": {
   "interpreter": {
    "hash": "37aa201d1c7ce9670d7d18f67b06b82a4af36f6443fe30dbf0bcd7cbbfad3c4e"
   }
  }
 },
 "nbformat": 4,
 "nbformat_minor": 2
}
